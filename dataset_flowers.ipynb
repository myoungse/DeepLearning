{
 "cells": [
  {
   "cell_type": "code",
   "execution_count": 54,
   "metadata": {},
   "outputs": [
    {
     "name": "stdout",
     "output_type": "stream",
     "text": [
      "Requirement already satisfied: opencv-python in c:\\users\\ekbin\\anaconda3\\lib\\site-packages (4.10.0.82)\n",
      "Requirement already satisfied: numpy>=1.21.2 in c:\\users\\ekbin\\anaconda3\\lib\\site-packages (from opencv-python) (1.24.4)\n"
     ]
    }
   ],
   "source": [
    "%run dataset.ipynb"
   ]
  },
  {
   "cell_type": "code",
   "execution_count": 49,
   "metadata": {},
   "outputs": [],
   "source": [
    "class FlowersDataset(Dataset):\n",
    "    pass"
   ]
  },
  {
   "cell_type": "code",
   "execution_count": 55,
   "metadata": {},
   "outputs": [],
   "source": [
    "class FlowersDataset(Dataset):\n",
    "    def __init__(self):\n",
    "        super(FlowersDataset, self).__init__('flowers', 'select')\n",
    "        self.target_names = []  # 클래스 속성으로 target_names 추가"
   ]
  },
  {
   "cell_type": "code",
   "execution_count": 56,
   "metadata": {},
   "outputs": [],
   "source": [
    "def flowers_init(self, resolution=[100,100], input_shape=[-1]):\n",
    "    super(FlowersDataset, self).__init__('flowers', 'select')\n",
    "    \n",
    "    path = \"C:/Users/ekbin/Desktop/flowers\"\n",
    "    self.target_names = list_dir(path)\n",
    "\n",
    "    images = []\n",
    "    idxs = []\n",
    "    \n",
    "    for dx, dname in enumerate(self.target_names):\n",
    "        subpath = path + '/' + dname\n",
    "        filenames = list_dir(subpath)\n",
    "        for fname in filenames:\n",
    "            if fname[-4:] != '.jpg':\n",
    "                continue\n",
    "            imagepath = os.path.join(subpath, fname)\n",
    "            pixels = load_image_pixels(imagepath, resolution, input_shape)\n",
    "            images.append(pixels)\n",
    "            idxs.append(dx)\n",
    "\n",
    "    self.image_shape = resolution + [3]\n",
    "\n",
    "    xs = np.asarray(images, np.float32)\n",
    "    ys = onehot(idxs, len(self.target_names))\n",
    "\n",
    "    self.shuffle_data(xs, ys, 0.8)\n",
    "\n",
    "FlowersDataset.__init__ = flowers_init"
   ]
  },
  {
   "cell_type": "code",
   "execution_count": 57,
   "metadata": {},
   "outputs": [],
   "source": [
    "def flowers_visualize(self, xs, estimates, answers):\n",
    "    draw_images_horz(xs, self.image_shape)\n",
    "    show_select_results(estimates, answers, self.target_names)\n",
    "\n",
    "FlowersDataset.visualize = flowers_visualize"
   ]
  },
  {
   "cell_type": "code",
   "execution_count": null,
   "metadata": {},
   "outputs": [],
   "source": []
  }
 ],
 "metadata": {
  "kernelspec": {
   "display_name": "Python 3 (ipykernel)",
   "language": "python",
   "name": "python3"
  },
  "language_info": {
   "codemirror_mode": {
    "name": "ipython",
    "version": 3
   },
   "file_extension": ".py",
   "mimetype": "text/x-python",
   "name": "python",
   "nbconvert_exporter": "python",
   "pygments_lexer": "ipython3",
   "version": "3.11.7"
  }
 },
 "nbformat": 4,
 "nbformat_minor": 4
}
